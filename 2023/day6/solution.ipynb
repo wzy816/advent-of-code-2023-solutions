{
 "cells": [
  {
   "cell_type": "code",
   "execution_count": 16,
   "metadata": {},
   "outputs": [
    {
     "name": "stdout",
     "output_type": "stream",
     "text": [
      "771628\n"
     ]
    }
   ],
   "source": [
    "# x*(7-x) >= 40\n",
    "import re\n",
    "\n",
    "with open(\"./input.txt\", \"r\") as f:\n",
    "    data = f.read().splitlines()\n",
    "    ti = re.match(r\"Time:(.*)\", data[0]).group(1)\n",
    "    times = [int(n) for n in ti.split(\" \") if n != \"\"]\n",
    "    dist = re.match(r\"Distance:(.*)\", data[1]).group(1)\n",
    "    distances = [int(n) for n in dist.split(\" \") if n != \"\"]\n",
    "\n",
    "ans = 1\n",
    "for t, d in zip(times, distances):\n",
    "\n",
    "    low = 0\n",
    "    high = t // 2\n",
    "    while low < high:\n",
    "        mid = (low + high) // 2\n",
    "        reach = mid * (t - mid)\n",
    "        if reach > d:\n",
    "            high = mid\n",
    "        else:\n",
    "            low = mid + 1\n",
    "    ans = ans * (t - low - low + 1)\n",
    "print(ans)"
   ]
  },
  {
   "cell_type": "code",
   "execution_count": 17,
   "metadata": {},
   "outputs": [
    {
     "name": "stdout",
     "output_type": "stream",
     "text": [
      "27363861\n"
     ]
    }
   ],
   "source": [
    "# x*(7-x) >= 40\n",
    "import re\n",
    "\n",
    "with open(\"./input.txt\", \"r\") as f:\n",
    "    data = f.read().splitlines()\n",
    "    ti = re.match(r\"Time:(.*)\", data[0]).group(1)\n",
    "    times = [int(ti.replace(\" \", \"\"))]\n",
    "    dist = re.match(r\"Distance:(.*)\", data[1]).group(1)\n",
    "    distances = [int(dist.replace(\" \", \"\"))]\n",
    "\n",
    "ans = 1\n",
    "for t, d in zip(times, distances):\n",
    "    low = 0\n",
    "    high = t // 2\n",
    "    while low < high:\n",
    "        mid = (low + high) // 2\n",
    "        reach = mid * (t - mid)\n",
    "        if reach > d:\n",
    "            high = mid\n",
    "        else:\n",
    "            low = mid + 1\n",
    "    ans = ans * (t - low - low + 1)\n",
    "print(ans)"
   ]
  },
  {
   "cell_type": "code",
   "execution_count": null,
   "metadata": {},
   "outputs": [],
   "source": []
  }
 ],
 "metadata": {
  "kernelspec": {
   "display_name": "Python 3",
   "language": "python",
   "name": "python3"
  },
  "language_info": {
   "codemirror_mode": {
    "name": "ipython",
    "version": 3
   },
   "file_extension": ".py",
   "mimetype": "text/x-python",
   "name": "python",
   "nbconvert_exporter": "python",
   "pygments_lexer": "ipython3",
   "version": "3.11.5"
  }
 },
 "nbformat": 4,
 "nbformat_minor": 2
}

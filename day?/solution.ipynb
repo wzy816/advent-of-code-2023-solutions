{
 "cells": [
  {
   "cell_type": "code",
   "execution_count": null,
   "metadata": {},
   "outputs": [],
   "source": [
    "with open(\"./input_demo.txt\", \"r\") as f:\n",
    "    data = f.read().splitlines()"
   ]
  }
 ],
 "metadata": {
  "language_info": {
   "name": "python"
  }
 },
 "nbformat": 4,
 "nbformat_minor": 2
}

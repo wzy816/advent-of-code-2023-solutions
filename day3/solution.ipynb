{
 "cells": [
  {
   "cell_type": "code",
   "execution_count": 86,
   "metadata": {},
   "outputs": [
    {
     "name": "stdout",
     "output_type": "stream",
     "text": [
      "535235\n"
     ]
    }
   ],
   "source": [
    "def is_num(s):\n",
    "    return ord(s) >= 48 and ord(s) <= 57\n",
    "\n",
    "\n",
    "def is_symbol(s):\n",
    "    return not is_num(s) and s != \".\"\n",
    "\n",
    "\n",
    "def dfs(i, j, matrix, level):\n",
    "    if i < 0 or i >= NUM_ROWS or j < 0 or j >= NUM_COLS:  # out of index\n",
    "        return\n",
    "    if matrix[i][j] == \".\":  # reach dot\n",
    "        return\n",
    "\n",
    "    if is_num(matrix[i][j]) or level == 0:\n",
    "        matrix[i][j] = \".\"\n",
    "        # search adjacent\n",
    "        dfs(i - 1, j, matrix, level + 1)\n",
    "        dfs(i + 1, j, matrix, level + 1)\n",
    "        dfs(i, j - 1, matrix, level + 1)\n",
    "        dfs(i, j + 1, matrix, level + 1)\n",
    "        dfs(i - 1, j - 1, matrix, level + 1)\n",
    "        dfs(i + 1, j + 1, matrix, level + 1)\n",
    "        dfs(i + 1, j - 1, matrix, level + 1)\n",
    "        dfs(i - 1, j + 1, matrix, level + 1)\n",
    "\n",
    "\n",
    "with open(\"./input.txt\", \"r\") as f:\n",
    "    d = f.read().splitlines()\n",
    "data = [list(row) for row in d]\n",
    "\n",
    "NUM_ROWS = len(data)\n",
    "NUM_COLS = len(data[0])\n",
    "\n",
    "for r in range(NUM_ROWS):\n",
    "    for c in range(NUM_COLS):\n",
    "        if is_symbol(data[r][c]):\n",
    "            dfs(r, c, data, 0)  # mark adjecent number as dot\n",
    "            data[r][c] = \".\"  # mark symbol as dot\n",
    "\n",
    "\n",
    "data2 = [list(row) for row in d[:]]\n",
    "\n",
    "for r in range(NUM_ROWS):\n",
    "    for c in range(NUM_COLS):\n",
    "        if data[r][c] != \".\":\n",
    "            data2[r][c] = \".\"  # mark non-adj number as dot\n",
    "        if not is_num(data2[r][c]):\n",
    "            data2[r][c] = \".\"  # mark symbol as dot\n",
    "\n",
    "# so only adjacent number and dot in data2\n",
    "\n",
    "total = 0\n",
    "for row in data2:\n",
    "    r = \"\".join(row).split(\".\")\n",
    "    num = [int(n) for n in r if n != \"\"]\n",
    "    total += sum(num)\n",
    "print(total)"
   ]
  },
  {
   "cell_type": "code",
   "execution_count": 100,
   "metadata": {},
   "outputs": [
    {
     "name": "stdout",
     "output_type": "stream",
     "text": [
      "79844424\n"
     ]
    }
   ],
   "source": [
    "with open(\"./input.txt\", \"r\") as f:\n",
    "    d = f.read().splitlines()\n",
    "\n",
    "data = [list(row) for row in d]\n",
    "NUM_ROWS = len(data)\n",
    "NUM_COLS = len(data[0])\n",
    "\n",
    "\n",
    "def is_num(s):\n",
    "    return ord(s) >= 48 and ord(s) <= 57\n",
    "\n",
    "\n",
    "def is_symbol(s):\n",
    "    return not is_num(s) and s != \".\"\n",
    "\n",
    "\n",
    "def dfs(ci, cj, _i, _j, matrix, level, cur_adj_cache):\n",
    "    i = ci + _i\n",
    "    j = cj + _j\n",
    "    if i < 0 or i >= NUM_ROWS or j < 0 or j >= NUM_COLS:  # out of index\n",
    "        return\n",
    "    if matrix[i][j] == \".\":\n",
    "        return\n",
    "    if is_num(matrix[i][j]) or level == 0:\n",
    "        # cache adjacent num of current symbol in cur_adj_cache\n",
    "        if level > 0:\n",
    "            cur_adj_cache[10 + _i][10 + _j] = matrix[i][j]\n",
    "\n",
    "        matrix[i][j] = \".\"\n",
    "        dfs(ci, cj, _i - 1, _j, matrix, level + 1, cur_adj_cache)\n",
    "        dfs(ci, cj, _i + 1, _j, matrix, level + 1, cur_adj_cache)\n",
    "        dfs(ci, cj, _i, _j - 1, matrix, level + 1, cur_adj_cache)\n",
    "        dfs(ci, cj, _i, _j + 1, matrix, level + 1, cur_adj_cache)\n",
    "        dfs(ci, cj, _i - 1, _j - 1, matrix, level + 1, cur_adj_cache)\n",
    "        dfs(ci, cj, _i + 1, _j + 1, matrix, level + 1, cur_adj_cache)\n",
    "        dfs(ci, cj, _i + 1, _j - 1, matrix, level + 1, cur_adj_cache)\n",
    "        dfs(ci, cj, _i - 1, _j + 1, matrix, level + 1, cur_adj_cache)\n",
    "\n",
    "\n",
    "total = 0\n",
    "for r in range(NUM_ROWS):\n",
    "    for c in range(NUM_COLS):\n",
    "        if is_symbol(data[r][c]):\n",
    "            # [10][10] is center for symbol, _i _j is offset\n",
    "            cur_adj_cache = [[\".\" for _ in range(22)] for i in range(22)]\n",
    "\n",
    "            dfs(r, c, 0, 0, data, 0, cur_adj_cache)\n",
    "            data[r][c] = \".\"\n",
    "\n",
    "            nums = []\n",
    "            for row in cur_adj_cache:\n",
    "                nums += [int(n) for n in \"\".join(row).split(\".\") if n != \"\"]\n",
    "            if len(nums) == 2:\n",
    "                total += nums[0] * nums[1]\n",
    "\n",
    "\n",
    "print(total)"
   ]
  },
  {
   "cell_type": "code",
   "execution_count": null,
   "metadata": {},
   "outputs": [],
   "source": []
  }
 ],
 "metadata": {
  "kernelspec": {
   "display_name": "base",
   "language": "python",
   "name": "python3"
  },
  "language_info": {
   "codemirror_mode": {
    "name": "ipython",
    "version": 3
   },
   "file_extension": ".py",
   "mimetype": "text/x-python",
   "name": "python",
   "nbconvert_exporter": "python",
   "pygments_lexer": "ipython3",
   "version": "3.9.5"
  }
 },
 "nbformat": 4,
 "nbformat_minor": 2
}

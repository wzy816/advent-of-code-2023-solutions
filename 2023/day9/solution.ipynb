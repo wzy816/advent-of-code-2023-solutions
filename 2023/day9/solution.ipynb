{
 "cells": [
  {
   "cell_type": "code",
   "execution_count": 15,
   "metadata": {},
   "outputs": [
    {
     "name": "stdout",
     "output_type": "stream",
     "text": [
      "1898776583\n"
     ]
    }
   ],
   "source": [
    "with open(\"./input.txt\", \"r\") as f:\n",
    "    data = f.read().splitlines()\n",
    "\n",
    "    ans = 0\n",
    "    for line in data:\n",
    "        line = [int(n) for n in line.split(\" \")]\n",
    "        size = len(line)\n",
    "        i = 1\n",
    "\n",
    "        # down\n",
    "        while i < size:\n",
    "            next_line = line[:i]\n",
    "\n",
    "            j = i\n",
    "            while j < size:\n",
    "                next_line.append(line[j] - line[j - 1])\n",
    "                j = j + 1\n",
    "            line = next_line[:]\n",
    "            if sum(line[i:]) == 0:\n",
    "                break\n",
    "            else:\n",
    "                i += 1\n",
    "        # print(line, i)\n",
    "\n",
    "        line.append(0)\n",
    "        size = len(line)\n",
    "        # up\n",
    "        while i > 0:\n",
    "            next_line = line[:i]\n",
    "            j = i\n",
    "\n",
    "            while j < size:\n",
    "                next_line.append(line[j] + next_line[j - 1])\n",
    "                j = j + 1\n",
    "            line = next_line[:]\n",
    "\n",
    "            i -= 1\n",
    "\n",
    "        # print(line)\n",
    "        ans += line[-1]\n",
    "print(ans)"
   ]
  },
  {
   "cell_type": "code",
   "execution_count": 16,
   "metadata": {},
   "outputs": [
    {
     "name": "stdout",
     "output_type": "stream",
     "text": [
      "1100\n"
     ]
    }
   ],
   "source": [
    "with open(\"./input.txt\", \"r\") as f:\n",
    "    data = f.read().splitlines()\n",
    "\n",
    "    ans = 0\n",
    "    for line in data:\n",
    "        # just reverse the line\n",
    "        line = [int(n) for n in line.split(\" \")[::-1]]\n",
    "        size = len(line)\n",
    "        i = 1\n",
    "\n",
    "        # down\n",
    "        while i < size:\n",
    "            next_line = line[:i]\n",
    "\n",
    "            j = i\n",
    "            while j < size:\n",
    "                next_line.append(line[j] - line[j - 1])\n",
    "                j = j + 1\n",
    "            line = next_line[:]\n",
    "            if sum(line[i:]) == 0:\n",
    "                break\n",
    "            else:\n",
    "                i += 1\n",
    "        # print(line, i)\n",
    "\n",
    "        line.append(0)\n",
    "        size = len(line)\n",
    "        # up\n",
    "        while i > 0:\n",
    "            next_line = line[:i]\n",
    "            j = i\n",
    "\n",
    "            while j < size:\n",
    "                next_line.append(line[j] + next_line[j - 1])\n",
    "                j = j + 1\n",
    "            line = next_line[:]\n",
    "\n",
    "            i -= 1\n",
    "\n",
    "        # print(line)\n",
    "        ans += line[-1]\n",
    "print(ans)"
   ]
  },
  {
   "cell_type": "code",
   "execution_count": null,
   "metadata": {},
   "outputs": [],
   "source": []
  }
 ],
 "metadata": {
  "kernelspec": {
   "display_name": "Python 3",
   "language": "python",
   "name": "python3"
  },
  "language_info": {
   "codemirror_mode": {
    "name": "ipython",
    "version": 3
   },
   "file_extension": ".py",
   "mimetype": "text/x-python",
   "name": "python",
   "nbconvert_exporter": "python",
   "pygments_lexer": "ipython3",
   "version": "3.11.5"
  }
 },
 "nbformat": 4,
 "nbformat_minor": 2
}

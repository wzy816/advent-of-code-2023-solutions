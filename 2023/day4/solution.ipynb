{
 "cells": [
  {
   "cell_type": "code",
   "execution_count": 26,
   "metadata": {},
   "outputs": [],
   "source": [
    "# d = [\n",
    "#     \"Card 1: 41 48 83 86 17 | 83 86  6 31 17  9 48 53\",\n",
    "#     \"Card 2: 13 32 20 16 61 | 61 30 68 82 17 32 24 19\",\n",
    "#     \"Card 3:  1 21 53 59 44 | 69 82 63 72 16 21 14  1\",\n",
    "#     \"Card 4: 41 92 73 84 69 | 59 84 76 51 58  5 54 83\",\n",
    "#     \"Card 5: 87 83 26 28 32 | 88 30 70 12 93 22 82 36\",\n",
    "#     \"Card 6: 31 18 13 56 72 | 74 77 10 23 35 67 36 11\",\n",
    "# ]\n",
    "\n",
    "with open(\"./input.txt\", \"r\") as f:\n",
    "    d = f.read().splitlines()"
   ]
  },
  {
   "cell_type": "code",
   "execution_count": 27,
   "metadata": {},
   "outputs": [
    {
     "name": "stdout",
     "output_type": "stream",
     "text": [
      "25010\n"
     ]
    }
   ],
   "source": [
    "import re\n",
    "\n",
    "total = 0\n",
    "for card in d:\n",
    "    m = re.match(r\"Card\\s*(\\d+): (.*) \\| (.*)\", card)\n",
    "    id = m.group(1)\n",
    "    win_nums = [int(n) for n in m.group(2).split(\" \") if n != \"\"]\n",
    "    hav_nums = [int(n) for n in m.group(3).split(\" \") if n != \"\"]\n",
    "\n",
    "    match = set(hav_nums) & set(win_nums)\n",
    "    if len(match) > 0:\n",
    "        total += 2 ** (len(match) - 1)\n",
    "print(total)"
   ]
  },
  {
   "cell_type": "code",
   "execution_count": 28,
   "metadata": {},
   "outputs": [
    {
     "name": "stdout",
     "output_type": "stream",
     "text": [
      "9924412\n"
     ]
    }
   ],
   "source": [
    "import re\n",
    "from collections import Counter\n",
    "\n",
    "c = Counter()\n",
    "for card in d:\n",
    "    m = re.match(r\"Card\\s*(\\d+): (.*) \\| (.*)\", card)\n",
    "    id = int(m.group(1))\n",
    "    c[id] += 1\n",
    "\n",
    "    win_nums = [int(n) for n in m.group(2).split(\" \") if n != \"\"]\n",
    "    hav_nums = [int(n) for n in m.group(3).split(\" \") if n != \"\"]\n",
    "\n",
    "    match = set(hav_nums) & set(win_nums)\n",
    "\n",
    "    if len(match) > 0:\n",
    "        for i in range(id + 1, id + 1 + len(match)):\n",
    "            c[i] += c[id]\n",
    "print(sum(list(c.values())))"
   ]
  },
  {
   "cell_type": "code",
   "execution_count": null,
   "metadata": {},
   "outputs": [],
   "source": []
  }
 ],
 "metadata": {
  "kernelspec": {
   "display_name": "base",
   "language": "python",
   "name": "python3"
  },
  "language_info": {
   "codemirror_mode": {
    "name": "ipython",
    "version": 3
   },
   "file_extension": ".py",
   "mimetype": "text/x-python",
   "name": "python",
   "nbconvert_exporter": "python",
   "pygments_lexer": "ipython3",
   "version": "3.9.5"
  }
 },
 "nbformat": 4,
 "nbformat_minor": 2
}

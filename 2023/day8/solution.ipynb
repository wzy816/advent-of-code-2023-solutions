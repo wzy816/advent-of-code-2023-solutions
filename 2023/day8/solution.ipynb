{
 "cells": [
  {
   "cell_type": "code",
   "execution_count": 7,
   "metadata": {},
   "outputs": [
    {
     "name": "stdout",
     "output_type": "stream",
     "text": [
      "16409\n"
     ]
    }
   ],
   "source": [
    "with open(\"./input.txt\", \"r\") as f:\n",
    "    data = f.read().splitlines()\n",
    "\n",
    "    instructions = list(data[0])\n",
    "\n",
    "    i = 2\n",
    "    graph = {}\n",
    "    import re\n",
    "\n",
    "    while i < len(data):\n",
    "        if data[i] == \"\":\n",
    "            break\n",
    "        match = re.match(r\"([A-Z]{3}) = \\(([A-Z]{3}), ([A-Z]{3})\\)\", data[i])\n",
    "        graph[match.group(1)] = {\"L\": match.group(2), \"R\": match.group(3)}\n",
    "        i += 1\n",
    "\n",
    "cur = \"AAA\"\n",
    "step = 0\n",
    "l = len(instructions)\n",
    "while cur != \"ZZZ\":\n",
    "    if instructions[step % l] == \"L\":\n",
    "        cur = graph[cur][\"L\"]\n",
    "    else:\n",
    "        cur = graph[cur][\"R\"]\n",
    "    step += 1\n",
    "print(step)"
   ]
  },
  {
   "cell_type": "code",
   "execution_count": 18,
   "metadata": {},
   "outputs": [
    {
     "name": "stdout",
     "output_type": "stream",
     "text": [
      "[12643, 14257, 15871, 18023, 19637, 16409]\n",
      "11795205644011\n"
     ]
    }
   ],
   "source": [
    "with open(\"./input.txt\", \"r\") as f:\n",
    "    data = f.read().splitlines()\n",
    "\n",
    "    instructions = list(data[0])\n",
    "\n",
    "    i = 2\n",
    "    graph = {}\n",
    "    import re\n",
    "\n",
    "    while i < len(data):\n",
    "        if data[i] == \"\":\n",
    "            break\n",
    "        match = re.match(r\"([A-Z]{3}) = \\(([A-Z]{3}), ([A-Z]{3})\\)\", data[i])\n",
    "        graph[match.group(1)] = {\"L\": match.group(2), \"R\": match.group(3)}\n",
    "        i += 1\n",
    "\n",
    "curs = [n for n in graph.keys() if n.endswith(\"A\")]\n",
    "l = len(instructions)\n",
    "steps = []\n",
    "for cur in curs:\n",
    "    step = 0\n",
    "    while not cur.endswith(\"Z\"):\n",
    "        if instructions[step % l] == \"L\":\n",
    "            cur = graph[cur][\"L\"]\n",
    "        else:\n",
    "            cur = graph[cur][\"R\"]\n",
    "        step += 1\n",
    "    steps.append(step)\n",
    "print(steps)\n",
    "\n",
    "\n",
    "def gcd(a, b):\n",
    "    if a % b == 0:\n",
    "        return b\n",
    "    else:\n",
    "        return gcd(b, a % b)\n",
    "\n",
    "\n",
    "ans = 1\n",
    "for step in steps:\n",
    "    ans = ans * step // gcd(ans, step)\n",
    "print(ans)"
   ]
  },
  {
   "cell_type": "code",
   "execution_count": null,
   "metadata": {},
   "outputs": [],
   "source": []
  }
 ],
 "metadata": {
  "kernelspec": {
   "display_name": "Python 3",
   "language": "python",
   "name": "python3"
  },
  "language_info": {
   "codemirror_mode": {
    "name": "ipython",
    "version": 3
   },
   "file_extension": ".py",
   "mimetype": "text/x-python",
   "name": "python",
   "nbconvert_exporter": "python",
   "pygments_lexer": "ipython3",
   "version": "3.11.5"
  }
 },
 "nbformat": 4,
 "nbformat_minor": 2
}

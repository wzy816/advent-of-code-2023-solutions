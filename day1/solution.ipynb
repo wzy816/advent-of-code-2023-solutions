{
 "cells": [
  {
   "cell_type": "code",
   "execution_count": 7,
   "metadata": {},
   "outputs": [
    {
     "name": "stdout",
     "output_type": "stream",
     "text": [
      "56465\n"
     ]
    }
   ],
   "source": [
    "# part1\n",
    "total = 0\n",
    "with open(\"./input.txt\", \"r\", encoding=\"utf8\") as f:\n",
    "    for line in f.readlines():\n",
    "        nums = [\n",
    "            line[i]\n",
    "            for i in range(len(line))\n",
    "            if ord(line[i]) >= 49 and ord(line[i]) <= 57\n",
    "        ]\n",
    "        total += int(nums[0] + nums[-1])\n",
    "print(total)"
   ]
  },
  {
   "cell_type": "code",
   "execution_count": 8,
   "metadata": {},
   "outputs": [
    {
     "name": "stdout",
     "output_type": "stream",
     "text": [
      "55902\n"
     ]
    }
   ],
   "source": [
    "# part2\n",
    "total = 0\n",
    "\n",
    "ls3 = {\"one\": \"1\", \"two\": \"2\", \"six\": \"6\"}\n",
    "ls4 = {\"four\": \"4\", \"five\": \"5\", \"nine\": \"9\"}\n",
    "ls5 = {\"three\": \"3\", \"seven\": \"7\", \"eight\": \"8\"}\n",
    "with open(\"./input.txt\", \"r\", encoding=\"utf8\") as f:\n",
    "    for line in f.readlines():\n",
    "        size = len(line)\n",
    "        i = 0\n",
    "        nums = []\n",
    "        while i < size:\n",
    "            if ord(line[i]) >= 49 and ord(line[i]) <= 57:\n",
    "                nums.append(line[i])\n",
    "            elif i + 3 <= size and line[i : i + 3] in ls3:\n",
    "                nums.append(ls3[line[i : i + 3]])\n",
    "            elif i + 4 <= size and line[i : i + 4] in ls4:\n",
    "                nums.append(ls4[line[i : i + 4]])\n",
    "            elif i + 5 <= size and line[i : i + 5] in ls5:\n",
    "                nums.append(ls5[line[i : i + 5]])\n",
    "            i += 1\n",
    "        total += int(nums[0] + nums[-1])\n",
    "print(total)"
   ]
  },
  {
   "cell_type": "code",
   "execution_count": null,
   "metadata": {},
   "outputs": [],
   "source": []
  }
 ],
 "metadata": {
  "kernelspec": {
   "display_name": "base",
   "language": "python",
   "name": "python3"
  },
  "language_info": {
   "codemirror_mode": {
    "name": "ipython",
    "version": 3
   },
   "file_extension": ".py",
   "mimetype": "text/x-python",
   "name": "python",
   "nbconvert_exporter": "python",
   "pygments_lexer": "ipython3",
   "version": "3.9.5"
  }
 },
 "nbformat": 4,
 "nbformat_minor": 2
}

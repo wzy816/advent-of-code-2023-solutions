{
 "cells": [
  {
   "cell_type": "code",
   "execution_count": 34,
   "metadata": {},
   "outputs": [
    {
     "name": "stdout",
     "output_type": "stream",
     "text": [
      "177942185\n"
     ]
    }
   ],
   "source": [
    "with open(\"./input.txt\", \"r\") as f:\n",
    "    data = f.read().splitlines()\n",
    "\n",
    "    seeds = [int(s) for s in data[0][7:].split(\" \")]\n",
    "\n",
    "    i = 2\n",
    "    maps = []\n",
    "    m = []\n",
    "    while i < len(data):\n",
    "        if data[i].endswith(\"map:\"):\n",
    "            i = i + 1\n",
    "            continue\n",
    "\n",
    "        if data[i] == \"\":\n",
    "            m = sorted(m)\n",
    "            maps.append(m)\n",
    "            m = []\n",
    "        else:\n",
    "            dest_start, source_start, range_size = [int(s) for s in data[i].split(\" \")]\n",
    "            m.append((source_start, source_start + range_size, dest_start))\n",
    "        i = i + 1\n",
    "    m = sorted(m)\n",
    "    maps.append(m)\n",
    "\n",
    "import bisect\n",
    "\n",
    "for i, seed in enumerate(seeds):\n",
    "    for map in maps:\n",
    "        r = bisect.bisect(map, seed, key=lambda x: x[0])\n",
    "        if r > 0:\n",
    "            source_start, source_end, dest_start = map[r - 1]\n",
    "            if source_end >= seed:\n",
    "                seed = seed - source_start + dest_start\n",
    "    seeds[i] = seed\n",
    "print(min(seeds))"
   ]
  },
  {
   "cell_type": "code",
   "execution_count": 46,
   "metadata": {},
   "outputs": [
    {
     "name": "stdout",
     "output_type": "stream",
     "text": [
      "69841803\n"
     ]
    }
   ],
   "source": [
    "with open(\"./input.txt\", \"r\") as f:\n",
    "    data = f.read().splitlines()\n",
    "\n",
    "    # changed\n",
    "    seeds_range = [int(s) for s in data[0][7:].split(\" \")]\n",
    "    seeds = []\n",
    "    for i in range(0, len(seeds_range), 2):\n",
    "        seeds.append((seeds_range[i], seeds_range[i] + seeds_range[i + 1] - 1))\n",
    "\n",
    "    def sort_fill_map(map):\n",
    "        m = sorted(map)\n",
    "        if m[0][0] != 0:\n",
    "            m = [(0, m[0][0] - 1, 0, m[0][0] - 1)] + m\n",
    "        m = m + [(m[-1][1], 10**16, m[-1][1], 10**16)]\n",
    "        return m\n",
    "\n",
    "    i = 2\n",
    "    maps = []\n",
    "    m = []\n",
    "    while i < len(data):\n",
    "        if data[i].endswith(\"map:\"):\n",
    "            i = i + 1\n",
    "            continue\n",
    "\n",
    "        if data[i] == \"\":\n",
    "            maps.append(sort_fill_map(m))\n",
    "            m = []\n",
    "        else:\n",
    "            dest_start, source_start, range_size = [int(s) for s in data[i].split(\" \")]\n",
    "            m.append(\n",
    "                (\n",
    "                    source_start,\n",
    "                    source_start + range_size - 1,\n",
    "                    dest_start,\n",
    "                    dest_start + range_size - 1,\n",
    "                )\n",
    "            )\n",
    "        i = i + 1\n",
    "\n",
    "    maps.append(sort_fill_map(m))\n",
    "\n",
    "import bisect\n",
    "import math\n",
    "\n",
    "\n",
    "def map_once(seed, map):\n",
    "    start, end = seed\n",
    "    r_start = bisect.bisect(map, start, key=lambda x: x[0])\n",
    "    r_end = bisect.bisect(map, end, key=lambda x: x[0])\n",
    "    ans = []\n",
    "    # print(\n",
    "    #     start,\n",
    "    #     end,\n",
    "    #     r_start,\n",
    "    #     r_end,\n",
    "    # )\n",
    "    # print(\"map\", map)\n",
    "    # print(\"map r\", map[r_start - 1 : r_end])\n",
    "    for r in map[r_start - 1 : r_end]:\n",
    "        source_start, source_end, dest_start, dest_end = r\n",
    "        s = max(source_start, start)\n",
    "        e = min(source_end, end)\n",
    "        ans.append((dest_start + (s - source_start), dest_end + (e - source_end)))\n",
    "    return ans\n",
    "\n",
    "\n",
    "ans = math.inf\n",
    "for seed in seeds:\n",
    "    seed = [seed]\n",
    "    for map in maps:\n",
    "        new_seed = []\n",
    "        for r in seed:\n",
    "            new_seed = new_seed + map_once(r, map)\n",
    "        seed = new_seed[:]\n",
    "    ans = min(ans, min([s[0] for s in seed]))\n",
    "\n",
    "print(ans)"
   ]
  },
  {
   "cell_type": "code",
   "execution_count": null,
   "metadata": {},
   "outputs": [],
   "source": []
  }
 ],
 "metadata": {
  "kernelspec": {
   "display_name": "base",
   "language": "python",
   "name": "python3"
  },
  "language_info": {
   "codemirror_mode": {
    "name": "ipython",
    "version": 3
   },
   "file_extension": ".py",
   "mimetype": "text/x-python",
   "name": "python",
   "nbconvert_exporter": "python",
   "pygments_lexer": "ipython3",
   "version": "3.11.5"
  }
 },
 "nbformat": 4,
 "nbformat_minor": 2
}

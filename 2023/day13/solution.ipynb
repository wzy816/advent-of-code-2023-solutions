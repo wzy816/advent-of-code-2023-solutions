{
 "cells": [
  {
   "cell_type": "code",
   "execution_count": 1,
   "metadata": {},
   "outputs": [
    {
     "name": "stdout",
     "output_type": "stream",
     "text": [
      "27502\n"
     ]
    }
   ],
   "source": [
    "def reflection_match(ls):\n",
    "    nums = [int(\"\".join(l), 2) for l in ls]\n",
    "    size = len(nums)\n",
    "\n",
    "    for i in range(1, size):\n",
    "        if i <= size / 2:\n",
    "            s = nums[0 : int(2 * i)]\n",
    "        else:\n",
    "            s = nums[size - (size - i) * 2 :]\n",
    "\n",
    "        total = 0\n",
    "        for j in range(len(s)):\n",
    "            j2 = len(s) - 1 - j\n",
    "            total += (s[j] ^ s[j2]).bit_count()\n",
    "\n",
    "        if total == 0:\n",
    "            return i\n",
    "\n",
    "    return None\n",
    "\n",
    "\n",
    "with open(\"./input.txt\", \"r\") as f:\n",
    "\n",
    "    groups = f.read().split(\"\\n\\n\")\n",
    "\n",
    "    ans = 0\n",
    "    for group in groups:\n",
    "        lines = group.split(\"\\n\")\n",
    "        lines = [[\"1\" if l == \"#\" else \"0\" for l in line] for line in lines]\n",
    "\n",
    "        lines_t = [[l[i] for l in lines] for i in range(len(lines[0]))]\n",
    "        h = reflection_match(lines)\n",
    "        v = reflection_match(lines_t)\n",
    "\n",
    "        if h:\n",
    "            ans += 100 * h\n",
    "        if v:\n",
    "            ans += v\n",
    "\n",
    "    print(int(ans))"
   ]
  },
  {
   "cell_type": "code",
   "execution_count": 2,
   "metadata": {},
   "outputs": [
    {
     "name": "stdout",
     "output_type": "stream",
     "text": [
      "31947\n"
     ]
    }
   ],
   "source": [
    "def reflection_diff_one(ls):\n",
    "    nums = [int(\"\".join(l), 2) for l in ls]\n",
    "    size = len(nums)\n",
    "\n",
    "    for i in range(1, size):\n",
    "        if i <= size / 2:\n",
    "            s = nums[0 : int(2 * i)]\n",
    "        else:\n",
    "            s = nums[size - (size - i) * 2 :]\n",
    "\n",
    "        total = 0\n",
    "        for j in range(len(s) // 2):\n",
    "            j2 = len(s) - 1 - j\n",
    "            total += (s[j] ^ s[j2]).bit_count()  # bit diff\n",
    "\n",
    "        if total == 1:\n",
    "            return i\n",
    "\n",
    "    return None\n",
    "\n",
    "\n",
    "with open(\"./input.txt\", \"r\") as f:\n",
    "\n",
    "    groups = f.read().split(\"\\n\\n\")\n",
    "\n",
    "    ans = 0\n",
    "    for group in groups:\n",
    "        lines = group.split(\"\\n\")\n",
    "        lines = [[\"1\" if l == \"#\" else \"0\" for l in line] for line in lines]\n",
    "\n",
    "        lines_t = [[l[i] for l in lines] for i in range(len(lines[0]))]\n",
    "        h = reflection_diff_one(lines)\n",
    "        v = reflection_diff_one(lines_t)\n",
    "\n",
    "        if h:\n",
    "            ans += 100 * h\n",
    "        if v:\n",
    "            ans += v\n",
    "\n",
    "    print(int(ans))"
   ]
  }
 ],
 "metadata": {
  "kernelspec": {
   "display_name": "Python 3",
   "language": "python",
   "name": "python3"
  },
  "language_info": {
   "codemirror_mode": {
    "name": "ipython",
    "version": 3
   },
   "file_extension": ".py",
   "mimetype": "text/x-python",
   "name": "python",
   "nbconvert_exporter": "python",
   "pygments_lexer": "ipython3",
   "version": "3.11.5"
  }
 },
 "nbformat": 4,
 "nbformat_minor": 2
}

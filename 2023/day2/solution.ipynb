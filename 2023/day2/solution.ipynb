{
 "cells": [
  {
   "cell_type": "code",
   "execution_count": 15,
   "metadata": {},
   "outputs": [
    {
     "name": "stdout",
     "output_type": "stream",
     "text": [
      "2331\n"
     ]
    }
   ],
   "source": [
    "import re\n",
    "\n",
    "_max = {\"red\": 12, \"green\": 13, \"blue\": 14}\n",
    "\n",
    "total = 0\n",
    "\n",
    "with open(\"./input.txt\", \"r\") as f:\n",
    "    for line in f.readlines():\n",
    "        m = re.match(r\"Game (\\d+): (.*)\", line)\n",
    "\n",
    "        id = m.group(1)\n",
    "\n",
    "        valid = True\n",
    "        for once in re.split(\";|,\", m.group(2)):\n",
    "            num, color = once.strip().split(\" \")\n",
    "            if int(num) > _max[color]:\n",
    "                valid = False\n",
    "                break\n",
    "        if valid:\n",
    "            total += int(id)\n",
    "print(total)"
   ]
  },
  {
   "cell_type": "code",
   "execution_count": 16,
   "metadata": {},
   "outputs": [
    {
     "name": "stdout",
     "output_type": "stream",
     "text": [
      "71585\n"
     ]
    }
   ],
   "source": [
    "import re\n",
    "\n",
    "\n",
    "total = 0\n",
    "with open(\"./input.txt\", \"r\") as f:\n",
    "    for line in f.readlines():\n",
    "        m = re.match(r\"Game (\\d+): (.*)\", line)\n",
    "        id = m.group(1)\n",
    "        _max = {\"red\": 0, \"green\": 0, \"blue\": 0}\n",
    "        for once in re.split(\";|,\", m.group(2)):\n",
    "            num, color = once.strip().split(\" \")\n",
    "            _max[color] = max(_max[color], int(num))\n",
    "        total += _max[\"red\"] * _max[\"green\"] * _max[\"blue\"]\n",
    "print(total)"
   ]
  },
  {
   "cell_type": "code",
   "execution_count": null,
   "metadata": {},
   "outputs": [],
   "source": []
  }
 ],
 "metadata": {
  "kernelspec": {
   "display_name": "base",
   "language": "python",
   "name": "python3"
  },
  "language_info": {
   "codemirror_mode": {
    "name": "ipython",
    "version": 3
   },
   "file_extension": ".py",
   "mimetype": "text/x-python",
   "name": "python",
   "nbconvert_exporter": "python",
   "pygments_lexer": "ipython3",
   "version": "3.9.5"
  }
 },
 "nbformat": 4,
 "nbformat_minor": 2
}

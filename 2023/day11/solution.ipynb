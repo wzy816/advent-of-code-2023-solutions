{
 "cells": [
  {
   "cell_type": "code",
   "execution_count": 13,
   "metadata": {},
   "outputs": [
    {
     "name": "stdout",
     "output_type": "stream",
     "text": [
      "9639160\n"
     ]
    }
   ],
   "source": [
    "with open(\"./input.txt\", \"r\") as f:\n",
    "    data = f.read().splitlines()\n",
    "\n",
    "    rows = len(data)\n",
    "    cols = len(data[0])\n",
    "\n",
    "    row_has_uni = [False] * rows\n",
    "    col_has_uni = [False] * cols\n",
    "\n",
    "    for i in range(rows):\n",
    "        for j in range(cols):\n",
    "            if data[i][j] == \"#\":\n",
    "                row_has_uni[i] = True\n",
    "                col_has_uni[j] = True\n",
    "\n",
    "    expanded = []\n",
    "    for i in range(rows):\n",
    "        new_r = []\n",
    "        for j in range(cols):\n",
    "            if not col_has_uni[j]:\n",
    "                new_r.append(\".\")\n",
    "            new_r.append(data[i][j])\n",
    "\n",
    "        if not row_has_uni[i]:\n",
    "            expanded.append([\".\"] * len(new_r))\n",
    "\n",
    "        expanded.append(new_r)\n",
    "\n",
    "    unis = []\n",
    "    rows_e = len(expanded)\n",
    "    cols_e = len(expanded[0])\n",
    "    for i in range(rows_e):\n",
    "        for j in range(cols_e):\n",
    "            if expanded[i][j] == \"#\":\n",
    "                unis.append([i, j])\n",
    "\n",
    "import itertools\n",
    "\n",
    "ans = 0\n",
    "for p in itertools.permutations(unis, 2):\n",
    "    ans += abs(p[0][0] - p[1][0]) + abs(p[0][1] - p[1][1])\n",
    "print(int(ans / 2))"
   ]
  },
  {
   "cell_type": "code",
   "execution_count": 48,
   "metadata": {},
   "outputs": [
    {
     "name": "stdout",
     "output_type": "stream",
     "text": [
      "752936133304\n"
     ]
    }
   ],
   "source": [
    "with open(\"./input.txt\", \"r\") as f:\n",
    "    data = f.read().splitlines()\n",
    "\n",
    "    rows = len(data)\n",
    "    cols = len(data[0])\n",
    "\n",
    "    row_has_uni = [0] * rows\n",
    "    col_has_uni = [0] * cols\n",
    "\n",
    "    unis = []\n",
    "    for i in range(rows):\n",
    "        for j in range(cols):\n",
    "            if data[i][j] == \"#\":\n",
    "                row_has_uni[i] = 1\n",
    "                col_has_uni[j] = 1\n",
    "                unis.append([i, j])\n",
    "\n",
    "import itertools\n",
    "\n",
    "ans = 0\n",
    "for p in itertools.permutations(unis, 2):\n",
    "    x1, y1 = p[0]\n",
    "    x2, y2 = p[1]\n",
    "    if y2 < y1:\n",
    "        y1, y2 = y2, y1\n",
    "    if x2 < x1:\n",
    "        x1, x2 = x2, x1\n",
    "\n",
    "    ans += x2 - x1 + y2 - y1\n",
    "\n",
    "    ans += (1e6 - 1) * (x2 - x1 + 1 - sum(row_has_uni[x1 : x2 + 1]))\n",
    "    ans += (1e6 - 1) * (y2 - y1 + 1 - sum(col_has_uni[y1 : y2 + 1]))\n",
    "print(int(ans / 2))"
   ]
  }
 ],
 "metadata": {
  "kernelspec": {
   "display_name": "Python 3",
   "language": "python",
   "name": "python3"
  },
  "language_info": {
   "codemirror_mode": {
    "name": "ipython",
    "version": 3
   },
   "file_extension": ".py",
   "mimetype": "text/x-python",
   "name": "python",
   "nbconvert_exporter": "python",
   "pygments_lexer": "ipython3",
   "version": "3.11.5"
  }
 },
 "nbformat": 4,
 "nbformat_minor": 2
}
